{
 "cells": [
  {
   "cell_type": "code",
   "execution_count": 28,
   "metadata": {
    "collapsed": true
   },
   "outputs": [],
   "source": [
    "from GetData.read_data import get_stock_data"
   ]
  },
  {
   "cell_type": "code",
   "execution_count": 29,
   "metadata": {},
   "outputs": [],
   "source": [
    "Yum = get_stock_data('YUM')"
   ]
  },
  {
   "cell_type": "code",
   "execution_count": 30,
   "metadata": {},
   "outputs": [
    {
     "name": "stdout",
     "output_type": "stream",
     "text": [
      "             Open     High    Low  Close     Volume  Ex-Dividend  Split Ratio  \\\nDate                                                                            \n2017-01-03  63.56  63.7899  62.82  63.21  4793381.0          0.0          1.0   \n2017-01-04  63.15  63.7950  63.07  63.44  2835207.0          0.0          1.0   \n2017-01-05  63.35  63.7700  63.18  63.65  4040016.0          0.0          1.0   \n2017-01-06  63.65  64.8300  63.38  64.42  2863835.0          0.0          1.0   \n2017-01-09  64.38  64.8500  64.33  64.60  1944170.0          0.0          1.0   \n\n            Adj. Open  Adj. High   Adj. Low  Adj. Close  Adj. Volume  \nDate                                                                  \n2017-01-03  62.717292  62.944144  61.987103   62.371932    4793381.0  \n2017-01-04  62.312728  62.949176  62.233788   62.598883    2835207.0  \n2017-01-05  62.510076  62.924508  62.342330   62.806099    4040016.0  \n2017-01-06  62.806099  63.970454  62.539678   63.565890    2863835.0  \n2017-01-09  63.526420  63.990188  63.477083   63.743503    1944170.0  \n"
     ]
    }
   ],
   "source": [
    "print(Yum.head())"
   ]
  },
  {
   "cell_type": "code",
   "execution_count": 40,
   "metadata": {},
   "outputs": [],
   "source": [
    "from sklearn.linear_model import LogisticRegression\n",
    "from sklearn.model_selection import train_test_split\n",
    "import numpy as np\n",
    "import matplotlib.pyplot as plt"
   ]
  },
  {
   "cell_type": "code",
   "execution_count": 32,
   "metadata": {},
   "outputs": [
    {
     "data": {
      "text/plain": [
       "74.04901294498382"
      ]
     },
     "execution_count": 32,
     "metadata": {},
     "output_type": "execute_result"
    }
   ],
   "source": [
    "Yum.Open.mean()"
   ]
  },
  {
   "cell_type": "code",
   "execution_count": 33,
   "metadata": {},
   "outputs": [],
   "source": [
    "binaryy = (Yum.Open > Yum.Open.mean()).astype(int)"
   ]
  },
  {
   "cell_type": "code",
   "execution_count": 34,
   "metadata": {},
   "outputs": [
    {
     "name": "stdout",
     "output_type": "stream",
     "text": [
      "Date\n2017-01-03    0\n2017-01-04    0\n2017-01-05    0\n2017-01-06    0\n2017-01-09    0\nName: Open, dtype: int32\n"
     ]
    }
   ],
   "source": [
    "print(binaryy.head())"
   ]
  },
  {
   "cell_type": "code",
   "execution_count": 35,
   "metadata": {},
   "outputs": [],
   "source": [
    "X_train, X_test, y_train, y_test = \\\n",
    "    train_test_split(Yum.Open, binaryy, test_size=0.2)"
   ]
  },
  {
   "cell_type": "code",
   "execution_count": 36,
   "metadata": {},
   "outputs": [],
   "source": [
    "LG = LogisticRegression()"
   ]
  },
  {
   "cell_type": "code",
   "execution_count": 39,
   "metadata": {},
   "outputs": [
    {
     "name": "stderr",
     "output_type": "stream",
     "text": [
      "C:\\ProgramData\\Miniconda3\\lib\\site-packages\\sklearn\\linear_model\\logistic.py:433: FutureWarning: Default solver will be changed to 'lbfgs' in 0.22. Specify a solver to silence this warning.\n  FutureWarning)\nC:\\ProgramData\\Miniconda3\\lib\\site-packages\\sklearn\\utils\\validation.py:761: DataConversionWarning: A column-vector y was passed when a 1d array was expected. Please change the shape of y to (n_samples, ), for example using ravel().\n  y = column_or_1d(y, warn=True)\n"
     ]
    }
   ],
   "source": [
    "model = LG.fit(np.reshape(np.asarray(X_train),(-1, 1)), \n",
    "               np.reshape(np.asarray(y_train),(-1, 1)))\n",
    "predictions = LG.predict(np.reshape(np.asarray(X_test),(-1,1)))"
   ]
  },
  {
   "cell_type": "code",
   "execution_count": 53,
   "metadata": {},
   "outputs": [
    {
     "data": {
      "text/plain": [
       "<matplotlib.collections.PathCollection at 0x22c97ed9e10>"
      ]
     },
     "execution_count": 53,
     "metadata": {},
     "output_type": "execute_result"
    },
    {
     "data": {
      "image/png": "[encoded data removed]",
      "text/plain": [
       "<Figure size 432x288 with 1 Axes>"
      ]
     },
     "metadata": {},
     "output_type": "display_data"
    }
   ],
   "source": [
    "plt.scatter(X_test, predictions)\n",
    "plt.scatter(X_test, y_test)"
   ]
  },
  {
   "cell_type": "code",
   "execution_count": 57,
   "metadata": {},
   "outputs": [
    {
     "data": {
      "text/plain": [
       "0.9516129032258065"
      ]
     },
     "execution_count": 57,
     "metadata": {},
     "output_type": "execute_result"
    }
   ],
   "source": [
    "model.score(np.reshape(np.asarray(X_test),(-1,1)),np.reshape(np.asarray(y_test),(-1,1)))"
   ]
  },
  {
   "cell_type": "code",
   "execution_count": null,
   "metadata": {},
   "outputs": [],
   "source": []
  }
 ],
 "metadata": {
  "kernelspec": {
   "display_name": "Python 2",
   "language": "python",
   "name": "python2"
  },
  "language_info": {
   "codemirror_mode": {
    "name": "ipython",
    "version": 2
   },
   "file_extension": ".py",
   "mimetype": "text/x-python",
   "name": "python",
   "nbconvert_exporter": "python",
   "pygments_lexer": "ipython2",
   "version": "2.7.6"
  }
 },
 "nbformat": 4,
 "nbformat_minor": 0
}
